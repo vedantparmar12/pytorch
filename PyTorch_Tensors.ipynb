{
  "cells": [
    {
      "cell_type": "markdown",
      "source": [
        "## What are Tensors?"
      ],
      "metadata": {
        "id": "7Kn2k7bRBsqo"
      }
    },
    {
      "cell_type": "markdown",
      "source": [
        "Tensors are a fundamental data structure used in the field of machine learning and scientific computing.\n",
        "At their core, tensors are multi-dimensional arrays"
      ],
      "metadata": {
        "id": "eenA-4h1BztV"
      }
    },
    {
      "cell_type": "markdown",
      "metadata": {
        "id": "FDljwIWuknXg"
      },
      "source": [
        "First, we'll import pytorch."
      ]
    },
    {
      "cell_type": "code",
      "execution_count": null,
      "metadata": {
        "id": "9dBy3ceHknXi"
      },
      "outputs": [],
      "source": [
        "import torch"
      ]
    },
    {
      "cell_type": "markdown",
      "metadata": {
        "id": "MYVLRPetknXj"
      },
      "source": [
        "Let's see a few basic tensor manipulations. First, just a few of the ways to create tensors:"
      ]
    },
    {
      "cell_type": "code",
      "source": [
        "# Using a List\n",
        "\n",
        "lst = list(range(10))\n",
        "print(f\"List :{lst}\")\n",
        "\n",
        "a = torch.tensor(lst)\n",
        "print(f\"Torch Tensor:{a}\")"
      ],
      "metadata": {
        "colab": {
          "base_uri": "https://localhost:8080/"
        },
        "id": "7I3C8My_mCLI",
        "outputId": "61793563-fc75-4ecf-e768-ce3614e78d20"
      },
      "execution_count": null,
      "outputs": [
        {
          "output_type": "stream",
          "name": "stdout",
          "text": [
            "List :[0, 1, 2, 3, 4, 5, 6, 7, 8, 9]\n",
            "Torch Tensor:tensor([0, 1, 2, 3, 4, 5, 6, 7, 8, 9])\n"
          ]
        }
      ]
    },
    {
      "cell_type": "code",
      "source": [
        "# Creating a 2D tensor (matrix)\n",
        "tensor_2d = torch.tensor([[1, 2, 3],\n",
        "                          [4, 5, 6]])\n",
        "\n",
        "# Creating a 3D tensor\n",
        "tensor_3d = torch.tensor([[[1, 2, 3],\n",
        "                           [4, 5, 6]],\n",
        "                          [[7, 8, 9],\n",
        "                           [10, 11, 12]]])\n",
        "\n",
        "# Creating a 4D tensor\n",
        "tensor_4d = torch.tensor([[[[1, 2],\n",
        "                            [3, 4]],\n",
        "                           [[5, 6],\n",
        "                            [7, 8]]],\n",
        "                          [[[9, 10],\n",
        "                            [11, 12]],\n",
        "                           [[13, 14],\n",
        "                            [15, 16]]]])\n",
        "\n",
        "# Print the tensors\n",
        "print(\"2D Tensor (Matrix):\")\n",
        "print(tensor_2d)\n",
        "print(\"Shape:\", tensor_2d.shape)\n",
        "\n",
        "print(\"\\n3D Tensor:\")\n",
        "print(tensor_3d)\n",
        "print(\"Shape:\", tensor_3d.shape)\n",
        "\n",
        "print(\"\\n4D Tensor:\")\n",
        "print(tensor_4d)\n",
        "print(\"Shape:\", tensor_4d.shape)\n"
      ],
      "metadata": {
        "colab": {
          "base_uri": "https://localhost:8080/"
        },
        "id": "Em-_scs_zKMx",
        "outputId": "53be1d4d-9bb2-4633-8f1c-18beac621f4b"
      },
      "execution_count": null,
      "outputs": [
        {
          "output_type": "stream",
          "name": "stdout",
          "text": [
            "2D Tensor (Matrix):\n",
            "tensor([[1, 2, 3],\n",
            "        [4, 5, 6]])\n",
            "Shape: torch.Size([2, 3])\n",
            "\n",
            "3D Tensor:\n",
            "tensor([[[ 1,  2,  3],\n",
            "         [ 4,  5,  6]],\n",
            "\n",
            "        [[ 7,  8,  9],\n",
            "         [10, 11, 12]]])\n",
            "Shape: torch.Size([2, 2, 3])\n",
            "\n",
            "4D Tensor:\n",
            "tensor([[[[ 1,  2],\n",
            "          [ 3,  4]],\n",
            "\n",
            "         [[ 5,  6],\n",
            "          [ 7,  8]]],\n",
            "\n",
            "\n",
            "        [[[ 9, 10],\n",
            "          [11, 12]],\n",
            "\n",
            "         [[13, 14],\n",
            "          [15, 16]]]])\n",
            "Shape: torch.Size([2, 2, 2, 2])\n"
          ]
        }
      ]
    },
    {
      "cell_type": "code",
      "source": [
        "tensor_2d.dtype"
      ],
      "metadata": {
        "colab": {
          "base_uri": "https://localhost:8080/"
        },
        "id": "CDyv3CH7Ge_5",
        "outputId": "ee29c70a-5288-4394-ea55-582e64758431"
      },
      "execution_count": null,
      "outputs": [
        {
          "output_type": "execute_result",
          "data": {
            "text/plain": [
              "torch.int64"
            ]
          },
          "metadata": {},
          "execution_count": 11
        }
      ]
    },
    {
      "cell_type": "code",
      "source": [
        "# Using a Numpy Array\n",
        "import numpy as np\n",
        "\n",
        "np_array = np.array(list(range(10)))\n",
        "print(f\"Numpy array:{np_array} || datatype : {type(np_array)}\")\n",
        "\n",
        "# Convert NumPy array to PyTorch tensor\n",
        "torch_tensor = torch.tensor(np_array)\n",
        "# or\n",
        "torch_tensor = torch.from_numpy(np_array)\n",
        "print(f\"Torch Tensor:{torch_tensor} || datatype : {type(torch_tensor)}\")\n",
        "\n",
        "# Convert tensor to numpy array\n",
        "c = torch_tensor.numpy()\n",
        "print(f\"Numpy array:{c} || datatype : {type(c)}\")"
      ],
      "metadata": {
        "colab": {
          "base_uri": "https://localhost:8080/"
        },
        "id": "Ibay777bmjWV",
        "outputId": "bba611bd-8dac-40ec-a428-9fd721701292"
      },
      "execution_count": null,
      "outputs": [
        {
          "output_type": "stream",
          "name": "stdout",
          "text": [
            "Numpy array:[0 1 2 3 4 5 6 7 8 9] || datatype : <class 'numpy.ndarray'>\n",
            "Torch Tensor:tensor([0, 1, 2, 3, 4, 5, 6, 7, 8, 9]) || datatype : <class 'torch.Tensor'>\n",
            "Numpy array:[0 1 2 3 4 5 6 7 8 9] || datatype : <class 'numpy.ndarray'>\n"
          ]
        }
      ]
    },
    {
      "cell_type": "code",
      "source": [
        "hashmap = {1:1,2:2,3:3}\n",
        "print(\"Datatype\",type(hashmap))\n",
        "print(torch.tensor(hashmap))"
      ],
      "metadata": {
        "colab": {
          "base_uri": "https://localhost:8080/",
          "height": 193
        },
        "id": "YRAocsQam0us",
        "outputId": "f8981c93-28e0-4232-ea9c-d9b339322567"
      },
      "execution_count": null,
      "outputs": [
        {
          "output_type": "stream",
          "name": "stdout",
          "text": [
            "Datatype <class 'dict'>\n"
          ]
        },
        {
          "output_type": "error",
          "ename": "RuntimeError",
          "evalue": "Could not infer dtype of dict",
          "traceback": [
            "\u001b[0;31m---------------------------------------------------------------------------\u001b[0m",
            "\u001b[0;31mRuntimeError\u001b[0m                              Traceback (most recent call last)",
            "\u001b[0;32m<ipython-input-6-727ec46efb90>\u001b[0m in \u001b[0;36m<cell line: 3>\u001b[0;34m()\u001b[0m\n\u001b[1;32m      1\u001b[0m \u001b[0mhashmap\u001b[0m \u001b[0;34m=\u001b[0m \u001b[0;34m{\u001b[0m\u001b[0;36m1\u001b[0m\u001b[0;34m:\u001b[0m\u001b[0;36m1\u001b[0m\u001b[0;34m,\u001b[0m\u001b[0;36m2\u001b[0m\u001b[0;34m:\u001b[0m\u001b[0;36m2\u001b[0m\u001b[0;34m,\u001b[0m\u001b[0;36m3\u001b[0m\u001b[0;34m:\u001b[0m\u001b[0;36m3\u001b[0m\u001b[0;34m}\u001b[0m\u001b[0;34m\u001b[0m\u001b[0;34m\u001b[0m\u001b[0m\n\u001b[1;32m      2\u001b[0m \u001b[0mprint\u001b[0m\u001b[0;34m(\u001b[0m\u001b[0;34m\"Datatype\"\u001b[0m\u001b[0;34m,\u001b[0m\u001b[0mtype\u001b[0m\u001b[0;34m(\u001b[0m\u001b[0mhashmap\u001b[0m\u001b[0;34m)\u001b[0m\u001b[0;34m)\u001b[0m\u001b[0;34m\u001b[0m\u001b[0;34m\u001b[0m\u001b[0m\n\u001b[0;32m----> 3\u001b[0;31m \u001b[0mprint\u001b[0m\u001b[0;34m(\u001b[0m\u001b[0mtorch\u001b[0m\u001b[0;34m.\u001b[0m\u001b[0mtensor\u001b[0m\u001b[0;34m(\u001b[0m\u001b[0mhashmap\u001b[0m\u001b[0;34m)\u001b[0m\u001b[0;34m)\u001b[0m\u001b[0;34m\u001b[0m\u001b[0;34m\u001b[0m\u001b[0m\n\u001b[0m",
            "\u001b[0;31mRuntimeError\u001b[0m: Could not infer dtype of dict"
          ]
        }
      ]
    },
    {
      "cell_type": "code",
      "source": [
        "hashset = set([1,22,3,5,6,4,8])\n",
        "print(type(hashset))\n",
        "print(torch.tensor(hashset))"
      ],
      "metadata": {
        "id": "N1gQC29ApRo4",
        "colab": {
          "base_uri": "https://localhost:8080/",
          "height": 193
        },
        "outputId": "ec98176f-c2f8-404b-b231-049483665232"
      },
      "execution_count": null,
      "outputs": [
        {
          "output_type": "stream",
          "name": "stdout",
          "text": [
            "<class 'set'>\n"
          ]
        },
        {
          "output_type": "error",
          "ename": "RuntimeError",
          "evalue": "Could not infer dtype of set",
          "traceback": [
            "\u001b[0;31m---------------------------------------------------------------------------\u001b[0m",
            "\u001b[0;31mRuntimeError\u001b[0m                              Traceback (most recent call last)",
            "\u001b[0;32m<ipython-input-8-7ccd3f5e91ce>\u001b[0m in \u001b[0;36m<cell line: 3>\u001b[0;34m()\u001b[0m\n\u001b[1;32m      1\u001b[0m \u001b[0mhashset\u001b[0m \u001b[0;34m=\u001b[0m \u001b[0mset\u001b[0m\u001b[0;34m(\u001b[0m\u001b[0;34m[\u001b[0m\u001b[0;36m1\u001b[0m\u001b[0;34m,\u001b[0m\u001b[0;36m22\u001b[0m\u001b[0;34m,\u001b[0m\u001b[0;36m3\u001b[0m\u001b[0;34m,\u001b[0m\u001b[0;36m5\u001b[0m\u001b[0;34m,\u001b[0m\u001b[0;36m6\u001b[0m\u001b[0;34m,\u001b[0m\u001b[0;36m4\u001b[0m\u001b[0;34m,\u001b[0m\u001b[0;36m8\u001b[0m\u001b[0;34m]\u001b[0m\u001b[0;34m)\u001b[0m\u001b[0;34m\u001b[0m\u001b[0;34m\u001b[0m\u001b[0m\n\u001b[1;32m      2\u001b[0m \u001b[0mprint\u001b[0m\u001b[0;34m(\u001b[0m\u001b[0mtype\u001b[0m\u001b[0;34m(\u001b[0m\u001b[0mhashset\u001b[0m\u001b[0;34m)\u001b[0m\u001b[0;34m)\u001b[0m\u001b[0;34m\u001b[0m\u001b[0;34m\u001b[0m\u001b[0m\n\u001b[0;32m----> 3\u001b[0;31m \u001b[0mprint\u001b[0m\u001b[0;34m(\u001b[0m\u001b[0mtorch\u001b[0m\u001b[0;34m.\u001b[0m\u001b[0mtensor\u001b[0m\u001b[0;34m(\u001b[0m\u001b[0mhashset\u001b[0m\u001b[0;34m)\u001b[0m\u001b[0;34m)\u001b[0m\u001b[0;34m\u001b[0m\u001b[0;34m\u001b[0m\u001b[0m\n\u001b[0m",
            "\u001b[0;31mRuntimeError\u001b[0m: Could not infer dtype of set"
          ]
        }
      ]
    },
    {
      "cell_type": "code",
      "source": [
        "tup = tuple([(\"a\",2),(\"b\",4),(\"c\",6)])\n",
        "print(type(tup))\n",
        "print(torch.tensor(tup))"
      ],
      "metadata": {
        "id": "rOQYFoVSpl5z",
        "colab": {
          "base_uri": "https://localhost:8080/",
          "height": 193
        },
        "outputId": "fab48873-6fe5-4db0-9641-a7b565272b2a"
      },
      "execution_count": null,
      "outputs": [
        {
          "output_type": "stream",
          "name": "stdout",
          "text": [
            "<class 'tuple'>\n"
          ]
        },
        {
          "output_type": "error",
          "ename": "ValueError",
          "evalue": "too many dimensions 'str'",
          "traceback": [
            "\u001b[0;31m---------------------------------------------------------------------------\u001b[0m",
            "\u001b[0;31mValueError\u001b[0m                                Traceback (most recent call last)",
            "\u001b[0;32m<ipython-input-9-669fa105f623>\u001b[0m in \u001b[0;36m<cell line: 3>\u001b[0;34m()\u001b[0m\n\u001b[1;32m      1\u001b[0m \u001b[0mtup\u001b[0m \u001b[0;34m=\u001b[0m \u001b[0mtuple\u001b[0m\u001b[0;34m(\u001b[0m\u001b[0;34m[\u001b[0m\u001b[0;34m(\u001b[0m\u001b[0;34m\"a\"\u001b[0m\u001b[0;34m,\u001b[0m\u001b[0;36m2\u001b[0m\u001b[0;34m)\u001b[0m\u001b[0;34m,\u001b[0m\u001b[0;34m(\u001b[0m\u001b[0;34m\"b\"\u001b[0m\u001b[0;34m,\u001b[0m\u001b[0;36m4\u001b[0m\u001b[0;34m)\u001b[0m\u001b[0;34m,\u001b[0m\u001b[0;34m(\u001b[0m\u001b[0;34m\"c\"\u001b[0m\u001b[0;34m,\u001b[0m\u001b[0;36m6\u001b[0m\u001b[0;34m)\u001b[0m\u001b[0;34m]\u001b[0m\u001b[0;34m)\u001b[0m\u001b[0;34m\u001b[0m\u001b[0;34m\u001b[0m\u001b[0m\n\u001b[1;32m      2\u001b[0m \u001b[0mprint\u001b[0m\u001b[0;34m(\u001b[0m\u001b[0mtype\u001b[0m\u001b[0;34m(\u001b[0m\u001b[0mtup\u001b[0m\u001b[0;34m)\u001b[0m\u001b[0;34m)\u001b[0m\u001b[0;34m\u001b[0m\u001b[0;34m\u001b[0m\u001b[0m\n\u001b[0;32m----> 3\u001b[0;31m \u001b[0mprint\u001b[0m\u001b[0;34m(\u001b[0m\u001b[0mtorch\u001b[0m\u001b[0;34m.\u001b[0m\u001b[0mtensor\u001b[0m\u001b[0;34m(\u001b[0m\u001b[0mtup\u001b[0m\u001b[0;34m)\u001b[0m\u001b[0;34m)\u001b[0m\u001b[0;34m\u001b[0m\u001b[0;34m\u001b[0m\u001b[0m\n\u001b[0m",
            "\u001b[0;31mValueError\u001b[0m: too many dimensions 'str'"
          ]
        }
      ]
    },
    {
      "cell_type": "code",
      "source": [
        "tup_uniform = tuple([(1,2),(3,4),(5,6)])\n",
        "print(type(tup_uniform))\n",
        "print(torch.tensor(tup_uniform))"
      ],
      "metadata": {
        "id": "Pek0srLTqSjQ",
        "colab": {
          "base_uri": "https://localhost:8080/"
        },
        "outputId": "f25017c6-78e8-4d32-9224-79008762e906"
      },
      "execution_count": null,
      "outputs": [
        {
          "output_type": "stream",
          "name": "stdout",
          "text": [
            "<class 'tuple'>\n",
            "tensor([[1, 2],\n",
            "        [3, 4],\n",
            "        [5, 6]])\n"
          ]
        }
      ]
    },
    {
      "cell_type": "code",
      "execution_count": null,
      "metadata": {
        "id": "s535ohHSknXj",
        "colab": {
          "base_uri": "https://localhost:8080/"
        },
        "outputId": "7bc17611-1f69-4b04-803d-e3accb4053dc"
      },
      "outputs": [
        {
          "output_type": "stream",
          "name": "stdout",
          "text": [
            "tensor([[0., 0., 0.],\n",
            "        [0., 0., 0.],\n",
            "        [0., 0., 0.],\n",
            "        [0., 0., 0.],\n",
            "        [0., 0., 0.]])\n",
            "torch.float32\n"
          ]
        }
      ],
      "source": [
        "z = torch.zeros((5, 3))\n",
        "print(z)\n",
        "print(z.dtype)"
      ]
    },
    {
      "cell_type": "markdown",
      "metadata": {
        "id": "j-gYsBztknXk"
      },
      "source": [
        "Above, we create a 5x3 matrix filled with zeros,the zeros are 32-bit floating point numbers, which is the default PyTorch.\n",
        "\n",
        "We can change the default datatype as well."
      ]
    },
    {
      "cell_type": "code",
      "execution_count": null,
      "metadata": {
        "id": "nf2Bvc4XknXk",
        "colab": {
          "base_uri": "https://localhost:8080/"
        },
        "outputId": "2ee31ab2-0b4d-40c7-aa3c-d1ed0448796f"
      },
      "outputs": [
        {
          "output_type": "stream",
          "name": "stdout",
          "text": [
            "tensor([[1, 1, 1],\n",
            "        [1, 1, 1],\n",
            "        [1, 1, 1],\n",
            "        [1, 1, 1],\n",
            "        [1, 1, 1]], dtype=torch.int16)\n"
          ]
        }
      ],
      "source": [
        "i = torch.ones((5, 3), dtype=torch.int16)\n",
        "print(i)"
      ]
    },
    {
      "cell_type": "markdown",
      "metadata": {
        "id": "yPkbSYTrknXk"
      },
      "source": [
        "torch.rand() :Returns a tensor filled with random numbers from a uniform distribution on the interval [0, 1).\n",
        "\n",
        "It's common to initialize learning weights randomly, often with a specific seed for reproducibility of results:"
      ]
    },
    {
      "cell_type": "code",
      "execution_count": null,
      "metadata": {
        "id": "IxgQn-y3knXk",
        "colab": {
          "base_uri": "https://localhost:8080/"
        },
        "outputId": "81f540fe-235b-432a-ef3a-e9f8bfbedfc3"
      },
      "outputs": [
        {
          "output_type": "stream",
          "name": "stdout",
          "text": [
            "A random tensor:\n",
            "tensor([[0.7576, 0.2793],\n",
            "        [0.4031, 0.7347]])\n",
            "\n",
            "A different random tensor:\n",
            "tensor([[0.8823, 0.9150],\n",
            "        [0.3829, 0.9593]])\n",
            "\n",
            "Should match r1:\n",
            "tensor([[0.7576, 0.2793],\n",
            "        [0.4031, 0.7347]])\n"
          ]
        }
      ],
      "source": [
        "torch.manual_seed(1)\n",
        "r1 = torch.rand(2, 2)\n",
        "print('A random tensor:')\n",
        "print(r1)\n",
        "\n",
        "torch.manual_seed(42)\n",
        "r2 = torch.rand(2, 2)\n",
        "print('\\nA different random tensor:')\n",
        "print(r2) # new values\n",
        "\n",
        "torch.manual_seed(1)\n",
        "r3 = torch.rand(2, 2)\n",
        "print('\\nShould match r1:')\n",
        "print(r3) # repeats values of r1 because of re-seed"
      ]
    },
    {
      "cell_type": "markdown",
      "source": [
        "Accessing Tensors elements"
      ],
      "metadata": {
        "id": "tKbb3ickuQrS"
      }
    },
    {
      "cell_type": "code",
      "source": [
        "# Create a tensor\n",
        "tensor = torch.tensor([[1, 2, 3],\n",
        "                       [4, 5, 6],\n",
        "                       [7, 8, 9]])"
      ],
      "metadata": {
        "id": "R6zSForFuPAw"
      },
      "execution_count": null,
      "outputs": []
    },
    {
      "cell_type": "code",
      "source": [
        "# Basic indexing: Access a single element\n",
        "print(\"Basic indexing - Single element:\", tensor[1, 2])"
      ],
      "metadata": {
        "id": "1Jt0VkzMuPCa",
        "colab": {
          "base_uri": "https://localhost:8080/"
        },
        "outputId": "3ce1c661-fd86-432f-e156-936d75310791"
      },
      "execution_count": null,
      "outputs": [
        {
          "output_type": "stream",
          "name": "stdout",
          "text": [
            "Basic indexing - Single element: tensor(6)\n"
          ]
        }
      ]
    },
    {
      "cell_type": "code",
      "source": [
        "# Slicing: Access a sub-tensor\n",
        "print(\"Slicing - Sub-tensor:\")\n",
        "print(tensor[1:, :])"
      ],
      "metadata": {
        "id": "Fq1n8Y4guPGj",
        "colab": {
          "base_uri": "https://localhost:8080/"
        },
        "outputId": "032eb009-24c3-44ad-d958-c2d372fe59b8"
      },
      "execution_count": null,
      "outputs": [
        {
          "output_type": "stream",
          "name": "stdout",
          "text": [
            "Slicing - Sub-tensor:\n",
            "tensor([[4, 5, 6],\n",
            "        [7, 8, 9]])\n"
          ]
        }
      ]
    },
    {
      "cell_type": "code",
      "source": [
        "# Fancy indexing: Access specific elements using a list of indices\n",
        "indices = torch.tensor([0, 2])\n",
        "print(\"Fancy indexing - Specific elements:\")\n",
        "print(tensor[:, indices])"
      ],
      "metadata": {
        "id": "U_wtgVrFuPJW",
        "colab": {
          "base_uri": "https://localhost:8080/"
        },
        "outputId": "38c1f8e3-589f-4cc1-a804-628212ba7da2"
      },
      "execution_count": null,
      "outputs": [
        {
          "output_type": "stream",
          "name": "stdout",
          "text": [
            "Fancy indexing - Specific elements:\n",
            "tensor([[1, 3],\n",
            "        [4, 6],\n",
            "        [7, 9]])\n"
          ]
        }
      ]
    },
    {
      "cell_type": "code",
      "source": [
        "# Masked indexing: Access elements based on a boolean mask\n",
        "mask = tensor > 5\n",
        "print(\"Masked indexing - Elements satisfying condition:\")\n",
        "print(tensor[mask])"
      ],
      "metadata": {
        "id": "xndepUoivTV1",
        "colab": {
          "base_uri": "https://localhost:8080/"
        },
        "outputId": "beb47a1f-8580-487a-bc3f-815fc89b04a6"
      },
      "execution_count": null,
      "outputs": [
        {
          "output_type": "stream",
          "name": "stdout",
          "text": [
            "Masked indexing - Elements satisfying condition:\n",
            "tensor([6, 7, 8, 9])\n"
          ]
        }
      ]
    },
    {
      "cell_type": "code",
      "source": [
        "# reshape method\n",
        "tensor1 = torch.tensor(list(range(36)))"
      ],
      "metadata": {
        "id": "IN6TWIFqwSFr"
      },
      "execution_count": null,
      "outputs": []
    },
    {
      "cell_type": "code",
      "source": [
        "tensor1.reshape(-1,6)"
      ],
      "metadata": {
        "id": "WBkZ0X-SxLRc",
        "colab": {
          "base_uri": "https://localhost:8080/"
        },
        "outputId": "de0b9b44-4102-443d-d55d-c87b0244ecf7"
      },
      "execution_count": null,
      "outputs": [
        {
          "output_type": "execute_result",
          "data": {
            "text/plain": [
              "tensor([[ 0,  1,  2,  3,  4,  5],\n",
              "        [ 6,  7,  8,  9, 10, 11],\n",
              "        [12, 13, 14, 15, 16, 17],\n",
              "        [18, 19, 20, 21, 22, 23],\n",
              "        [24, 25, 26, 27, 28, 29],\n",
              "        [30, 31, 32, 33, 34, 35]])"
            ]
          },
          "metadata": {},
          "execution_count": 23
        }
      ]
    },
    {
      "cell_type": "markdown",
      "metadata": {
        "id": "iA1czwmvknXl"
      },
      "source": [
        "PyTorch tensors perform arithmetic operations intuitively. Tensors of similar shapes may be added, multiplied, etc. It also support Broadcasting similar to numpy arrays."
      ]
    },
    {
      "cell_type": "code",
      "execution_count": null,
      "metadata": {
        "id": "1W07AyYbknXl",
        "colab": {
          "base_uri": "https://localhost:8080/"
        },
        "outputId": "226dae1c-3ac3-4916-c9df-d2627fa37d47"
      },
      "outputs": [
        {
          "output_type": "stream",
          "name": "stdout",
          "text": [
            "tensor([[1., 1., 1.],\n",
            "        [1., 1., 1.]])\n",
            "tensor([[2., 2., 2.],\n",
            "        [2., 2., 2.]])\n",
            "tensor([[3., 3., 3.],\n",
            "        [3., 3., 3.]])\n",
            "torch.Size([2, 3])\n"
          ]
        }
      ],
      "source": [
        "ones = torch.ones(2, 3)\n",
        "print(ones)\n",
        "\n",
        "twos = torch.ones(2, 3) * 2 # every element is multiplied by 2\n",
        "print(twos)\n",
        "\n",
        "threes = ones + twos       # additon allowed because shapes are similar\n",
        "print(threes)              # tensors are added element-wise\n",
        "print(threes.shape)        # this has the same dimensions as input tensors"
      ]
    },
    {
      "cell_type": "code",
      "source": [
        "# Supports Broadcasting\n",
        "\n",
        "a1 = torch.tensor([[1, 2, 3],\n",
        "                  [4, 5, 6]])\n",
        "print(f\"a1 shape :{a1.shape}\")\n",
        "\n",
        "b1 = torch.tensor([[10],\n",
        "                  [20]])\n",
        "print(f\"b1 shape :{b1.shape}\")\n",
        "\n",
        "# Perform element-wise addition (broadcasting)\n",
        "c1 = a1 + b1\n",
        "\n",
        "print(c1)"
      ],
      "metadata": {
        "id": "8pEjSqXetai5",
        "colab": {
          "base_uri": "https://localhost:8080/"
        },
        "outputId": "f9e8a600-141f-4e91-aa05-a2f6a1cafcf2"
      },
      "execution_count": null,
      "outputs": [
        {
          "output_type": "stream",
          "name": "stdout",
          "text": [
            "a1 shape :torch.Size([2, 3])\n",
            "b1 shape :torch.Size([2, 1])\n",
            "tensor([[11, 12, 13],\n",
            "        [24, 25, 26]])\n"
          ]
        }
      ]
    },
    {
      "cell_type": "code",
      "source": [
        "# Due to inappropriate tensor shapes\n",
        "r1 = torch.rand(3,3,1)\n",
        "r2 = torch.rand(3,3,2)\n",
        "r3 = r1 + r2\n",
        "print(r3)"
      ],
      "metadata": {
        "id": "T8rTkoT7tat6",
        "colab": {
          "base_uri": "https://localhost:8080/"
        },
        "outputId": "492a96c9-9d5d-4ed8-bde1-1aa20363f73d"
      },
      "execution_count": null,
      "outputs": [
        {
          "output_type": "stream",
          "name": "stdout",
          "text": [
            "tensor([[[0.7453, 1.6504],\n",
            "         [1.1157, 1.4323],\n",
            "         [0.8909, 0.9481]],\n",
            "\n",
            "        [[1.2221, 1.3227],\n",
            "         [1.1262, 1.5205],\n",
            "         [1.2806, 1.2697]],\n",
            "\n",
            "        [[1.5925, 0.9200],\n",
            "         [0.8564, 0.9141],\n",
            "         [0.7396, 1.1751]]])\n"
          ]
        }
      ]
    },
    {
      "cell_type": "markdown",
      "metadata": {
        "id": "nIj4rj3eknXm"
      },
      "source": [
        "Here's a small sample of the mathematical operations available:"
      ]
    },
    {
      "cell_type": "code",
      "source": [
        "torch.manual_seed(2)\n",
        "r = torch.rand(2, 2) - 0.5 * 2 # values between -1 and 1\n",
        "print('A random matrix, r:')\n",
        "print(r)"
      ],
      "metadata": {
        "id": "vdI4EU3P0xGU",
        "colab": {
          "base_uri": "https://localhost:8080/"
        },
        "outputId": "c8bc1093-c062-4ef3-8a14-b4329cdd7f61"
      },
      "execution_count": null,
      "outputs": [
        {
          "output_type": "stream",
          "name": "stdout",
          "text": [
            "A random matrix, r:\n",
            "tensor([[-0.3853, -0.6190],\n",
            "        [-0.3629, -0.5255]])\n"
          ]
        }
      ]
    },
    {
      "cell_type": "code",
      "source": [
        "# Common mathematical operations are supported:\n",
        "print('\\nAbsolute value of r:')\n",
        "print(torch.abs(r))"
      ],
      "metadata": {
        "id": "u5PMOWPw0z2J",
        "colab": {
          "base_uri": "https://localhost:8080/"
        },
        "outputId": "548aad1d-cbb6-40cf-eadb-2b0319c0639c"
      },
      "execution_count": null,
      "outputs": [
        {
          "output_type": "stream",
          "name": "stdout",
          "text": [
            "\n",
            "Absolute value of r:\n",
            "tensor([[0.3853, 0.6190],\n",
            "        [0.3629, 0.5255]])\n"
          ]
        }
      ]
    },
    {
      "cell_type": "code",
      "source": [
        "# ...as are trigonometric functions:\n",
        "print('\\nInverse sine of r:')\n",
        "print(torch.asin(r))"
      ],
      "metadata": {
        "id": "3iS4SHGU02d5",
        "colab": {
          "base_uri": "https://localhost:8080/"
        },
        "outputId": "46fea9ef-becb-43a9-b874-2c63db1c1820"
      },
      "execution_count": null,
      "outputs": [
        {
          "output_type": "stream",
          "name": "stdout",
          "text": [
            "\n",
            "Inverse sine of r:\n",
            "tensor([[-0.3955, -0.6675],\n",
            "        [-0.3714, -0.5533]])\n"
          ]
        }
      ]
    },
    {
      "cell_type": "code",
      "source": [
        "# ...and linear algebra operations like determinant and singular value decomposition\n",
        "print('\\nDeterminant of r:')\n",
        "print(torch.det(r))\n",
        "print('\\nSingular value decomposition of r:')\n",
        "print(torch.svd(r))"
      ],
      "metadata": {
        "id": "KkW56mAU044E",
        "colab": {
          "base_uri": "https://localhost:8080/"
        },
        "outputId": "13fa104b-d54a-48a5-dc06-3aa083a81b50"
      },
      "execution_count": null,
      "outputs": [
        {
          "output_type": "stream",
          "name": "stdout",
          "text": [
            "\n",
            "Determinant of r:\n",
            "tensor(-0.0221)\n",
            "\n",
            "Singular value decomposition of r:\n",
            "torch.return_types.svd(\n",
            "U=tensor([[-0.7523, -0.6588],\n",
            "        [-0.6588,  0.7523]]),\n",
            "S=tensor([0.9690, 0.0228]),\n",
            "V=tensor([[ 0.5459, -0.8379],\n",
            "        [ 0.8379,  0.5459]]))\n"
          ]
        }
      ]
    },
    {
      "cell_type": "code",
      "source": [
        "# ...and statistical and aggregate operations:\n",
        "print('\\nAverage and standard deviation of r:')\n",
        "print(torch.std_mean(r))\n",
        "print('\\nMaximum value of r:')\n",
        "print(torch.max(r))"
      ],
      "metadata": {
        "id": "_QCLSNJz07rK",
        "colab": {
          "base_uri": "https://localhost:8080/"
        },
        "outputId": "f8485b30-a52b-4281-cfb8-d08df5a427fc"
      },
      "execution_count": null,
      "outputs": [
        {
          "output_type": "stream",
          "name": "stdout",
          "text": [
            "\n",
            "Average and standard deviation of r:\n",
            "(tensor(0.1210), tensor(-0.4732))\n",
            "\n",
            "Maximum value of r:\n",
            "tensor(-0.3629)\n"
          ]
        }
      ]
    },
    {
      "cell_type": "code",
      "source": [],
      "metadata": {
        "id": "I554Fa6lVZL_"
      },
      "execution_count": null,
      "outputs": []
    }
  ],
  "metadata": {
    "kernelspec": {
      "display_name": "Python 3",
      "language": "python",
      "name": "python3"
    },
    "language_info": {
      "codemirror_mode": {
        "name": "ipython",
        "version": 3
      },
      "file_extension": ".py",
      "mimetype": "text/x-python",
      "name": "python",
      "nbconvert_exporter": "python",
      "pygments_lexer": "ipython3",
      "version": "3.9.1"
    },
    "colab": {
      "provenance": []
    }
  },
  "nbformat": 4,
  "nbformat_minor": 0
}